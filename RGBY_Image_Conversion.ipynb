{
 "cells": [
  {
   "cell_type": "code",
   "execution_count": 8,
   "metadata": {},
   "outputs": [],
   "source": [
    "import os\n",
    "import scipy.misc as misc\n",
    "import numpy as np\n",
    "import pandas as pd\n",
    "\n",
    "def image_merge(output_dir, imgpath, id_lists):\n",
    "    for img_id in id_lists:\n",
    "        output_filename = os.path.join(output_dir, os.path.basename(img_id) + '.png')\n",
    "    \n",
    "        if os.path.exists(output_filename):\n",
    "            continue\n",
    "\n",
    "        red_filename = imgpath+'/'+img_id + '_red.png'\n",
    "        green_filename = imgpath+'/'+img_id+ '_green.png'\n",
    "        blue_filename = imgpath+'/'+img_id+ '_blue.png'\n",
    "        yellow_filename =imgpath+'/'+img_id + '_yellow.png'\n",
    "\n",
    "        if not os.path.exists(red_filename) or \\\n",
    "            not os.path.exists(green_filename) or \\\n",
    "            not os.path.exists(blue_filename) or \\\n",
    "            not os.path.exists(yellow_filename):\n",
    "            continue\n",
    "\n",
    "        red = misc.imread(red_filename)\n",
    "        green = misc.imread(green_filename)\n",
    "        blue = misc.imread(blue_filename)\n",
    "        yellow = misc.imread(yellow_filename)\n",
    "\n",
    "        stacked = np.stack([red, green, blue, yellow], axis=2)\n",
    "\n",
    "        misc.imsave(output_filename, stacked)\n",
    "        #result = misc.imread(output_filename)"
   ]
  },
  {
   "cell_type": "code",
   "execution_count": 6,
   "metadata": {},
   "outputs": [
    {
     "name": "stdout",
     "output_type": "stream",
     "text": [
      "31062 31072\n"
     ]
    }
   ],
   "source": [
    "folderpath='./human-protein-atlas-image-classification/'\n",
    "train_target=pd.read_csv(folderpath+'train.csv')\n",
    "\n",
    "idlists=train_target.Id\n",
    "print(len(idlists),len(train_target))\n",
    "\n",
    "outputdir='./human-protein-atlas-image-classification/updated_train/'\n",
    "img_path='./human-protein-atlas-image-classification/train'\n",
    "image_merge(outputdir, img_path, idlists)"
   ]
  },
  {
   "cell_type": "code",
   "execution_count": 10,
   "metadata": {},
   "outputs": [
    {
     "name": "stdout",
     "output_type": "stream",
     "text": [
      "11702 11702\n"
     ]
    },
    {
     "name": "stderr",
     "output_type": "stream",
     "text": [
      "c:\\users\\chun\\.conda\\envs\\venv\\lib\\site-packages\\ipykernel_launcher.py:24: DeprecationWarning: `imread` is deprecated!\n",
      "`imread` is deprecated in SciPy 1.0.0, and will be removed in 1.2.0.\n",
      "Use ``imageio.imread`` instead.\n",
      "c:\\users\\chun\\.conda\\envs\\venv\\lib\\site-packages\\ipykernel_launcher.py:25: DeprecationWarning: `imread` is deprecated!\n",
      "`imread` is deprecated in SciPy 1.0.0, and will be removed in 1.2.0.\n",
      "Use ``imageio.imread`` instead.\n",
      "c:\\users\\chun\\.conda\\envs\\venv\\lib\\site-packages\\ipykernel_launcher.py:26: DeprecationWarning: `imread` is deprecated!\n",
      "`imread` is deprecated in SciPy 1.0.0, and will be removed in 1.2.0.\n",
      "Use ``imageio.imread`` instead.\n",
      "c:\\users\\chun\\.conda\\envs\\venv\\lib\\site-packages\\ipykernel_launcher.py:27: DeprecationWarning: `imread` is deprecated!\n",
      "`imread` is deprecated in SciPy 1.0.0, and will be removed in 1.2.0.\n",
      "Use ``imageio.imread`` instead.\n",
      "c:\\users\\chun\\.conda\\envs\\venv\\lib\\site-packages\\ipykernel_launcher.py:31: DeprecationWarning: `imsave` is deprecated!\n",
      "`imsave` is deprecated in SciPy 1.0.0, and will be removed in 1.2.0.\n",
      "Use ``imageio.imwrite`` instead.\n"
     ]
    }
   ],
   "source": [
    "test_target=pd.read_csv(folderpath+'sample_submission.csv')\n",
    "\n",
    "idlists=test_target.Id\n",
    "print(len(idlists),len(test_target))\n",
    "\n",
    "outputdir='./human-protein-atlas-image-classification/updated_test/'\n",
    "img_path='./human-protein-atlas-image-classification/test'\n",
    "image_merge(outputdir, img_path, idlists)"
   ]
  }
 ],
 "metadata": {
  "kernelspec": {
   "display_name": "Python 3",
   "language": "python",
   "name": "python3"
  },
  "language_info": {
   "codemirror_mode": {
    "name": "ipython",
    "version": 3
   },
   "file_extension": ".py",
   "mimetype": "text/x-python",
   "name": "python",
   "nbconvert_exporter": "python",
   "pygments_lexer": "ipython3",
   "version": "3.7.4"
  }
 },
 "nbformat": 4,
 "nbformat_minor": 2
}
